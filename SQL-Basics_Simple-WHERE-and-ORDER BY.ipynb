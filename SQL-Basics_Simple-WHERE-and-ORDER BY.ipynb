{
 "cells": [
  {
   "cell_type": "code",
   "execution_count": null,
   "metadata": {
    "vscode": {
     "languageId": "sql"
    }
   },
   "outputs": [],
   "source": [
    "-- DESCRIPTION:\n",
    "-- For this challenge you need to create a simple \n",
    "-- SELECT statement that will return all columns from the people table \n",
    "-- WHERE their age is over 50\n",
    "\n",
    "-- people table schema\n",
    "-- id\n",
    "-- name\n",
    "-- age\n",
    "-- You should return all people fields where their age is over 50 and \n",
    "-- order by the age descending\n",
    "\n",
    "-- My Solution\n",
    "\n",
    "SELECT *\n",
    "    FROM people\n",
    "    WHERE age > 50\n",
    "    ORDER BY age DESC;"
   ]
  }
 ],
 "metadata": {
  "language_info": {
   "name": "python"
  },
  "orig_nbformat": 4
 },
 "nbformat": 4,
 "nbformat_minor": 2
}
