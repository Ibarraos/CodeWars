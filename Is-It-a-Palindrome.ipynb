{
 "cells": [
  {
   "cell_type": "code",
   "execution_count": null,
   "metadata": {
    "vscode": {
     "languageId": "sql"
    }
   },
   "outputs": [],
   "source": [
    "-- DESCRIPTION:\n",
    "-- Write a function that checks if a given string (case insensitive) \n",
    "-- is a palindrome. A palindrome is a word, number, phrase, \n",
    "-- or other sequence of symbols that reads the same backwards as forwards, \n",
    "-- such as madam or racecar, the date and time 12/21/33 12:21, \n",
    "-- and the sentence: \"A man, a plan, a canal – Panama\".\n",
    "\n",
    "-- My Solution\n",
    "\n",
    "SELECT str, \n",
    "    reverse(lower(str)) = lower(str) AS res \n",
    "FROM ispalindrome;"
   ]
  }
 ],
 "metadata": {
  "language_info": {
   "name": "python"
  },
  "orig_nbformat": 4
 },
 "nbformat": 4,
 "nbformat_minor": 2
}
