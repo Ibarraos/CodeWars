{
 "cells": [
  {
   "cell_type": "code",
   "execution_count": null,
   "metadata": {
    "vscode": {
     "languageId": "sql"
    }
   },
   "outputs": [],
   "source": [
    "-- DESCRIPTION:\n",
    "-- Write a function that removes the spaces from the string, then return the resultant string.\n",
    "\n",
    "-- Examples:\n",
    "\n",
    "-- Input -> Output\n",
    "-- \"8 j 8   mBliB8g  imjB8B8  jl  B\" -> \"8j8mBliB8gimjB8B8jlB\"\n",
    "-- \"8 8 Bi fk8h B 8 BB8B B B  B888 c hl8 BhB fd\" -> \"88Bifk8hB8BB8BBBB888chl8BhBfd\"\n",
    "-- \"8aaaaa dddd r     \" -> \"8aaaaaddddr\"\n",
    "\n",
    "--My Solution\n",
    "\n",
    "\n",
    "SELECT x, replace(x,' ','') AS res\n",
    "FROM nospace;"
   ]
  }
 ],
 "metadata": {
  "language_info": {
   "name": "python"
  },
  "orig_nbformat": 4
 },
 "nbformat": 4,
 "nbformat_minor": 2
}
